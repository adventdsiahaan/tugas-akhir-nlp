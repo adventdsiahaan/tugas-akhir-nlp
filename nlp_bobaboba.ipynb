{
 "cells": [
  {
   "cell_type": "code",
   "execution_count": 1,
   "metadata": {},
   "outputs": [],
   "source": [
    "import pandas as pd\n",
    "import numpy as np\n",
    "import tensorflow as tf\n",
    "import gc"
   ]
  },
  {
   "cell_type": "code",
   "execution_count": 2,
   "metadata": {},
   "outputs": [],
   "source": [
    "data = pd.read_csv('D:/Materi Kuliah/Semester 7/NLP/Proyek/good_reads_final.csv',encoding = \"ISO-8859-1\")"
   ]
  },
  {
   "cell_type": "code",
   "execution_count": 3,
   "metadata": {},
   "outputs": [
    {
     "data": {
      "text/html": [
       "<div>\n",
       "<style scoped>\n",
       "    .dataframe tbody tr th:only-of-type {\n",
       "        vertical-align: middle;\n",
       "    }\n",
       "\n",
       "    .dataframe tbody tr th {\n",
       "        vertical-align: top;\n",
       "    }\n",
       "\n",
       "    .dataframe thead th {\n",
       "        text-align: right;\n",
       "    }\n",
       "</style>\n",
       "<table border=\"1\" class=\"dataframe\">\n",
       "  <thead>\n",
       "    <tr style=\"text-align: right;\">\n",
       "      <th></th>\n",
       "      <th>author_average_rating</th>\n",
       "      <th>author_gender</th>\n",
       "      <th>author_genres</th>\n",
       "      <th>author_id</th>\n",
       "      <th>author_name</th>\n",
       "      <th>author_page_url</th>\n",
       "      <th>author_rating_count</th>\n",
       "      <th>author_review_count</th>\n",
       "      <th>birthplace</th>\n",
       "      <th>book_average_rating</th>\n",
       "      <th>book_fullurl</th>\n",
       "      <th>book_id</th>\n",
       "      <th>book_title</th>\n",
       "      <th>genre_1</th>\n",
       "      <th>genre_2</th>\n",
       "      <th>num_ratings</th>\n",
       "      <th>num_reviews</th>\n",
       "      <th>pages</th>\n",
       "      <th>publish_date</th>\n",
       "      <th>score</th>\n",
       "    </tr>\n",
       "  </thead>\n",
       "  <tbody>\n",
       "    <tr>\n",
       "      <td>0</td>\n",
       "      <td>4.01</td>\n",
       "      <td>female</td>\n",
       "      <td>historical-fiction,</td>\n",
       "      <td>74489</td>\n",
       "      <td>Victoria Thompson\\n</td>\n",
       "      <td>/author/show/74489.Victoria_Thompson</td>\n",
       "      <td>74399</td>\n",
       "      <td>6268</td>\n",
       "      <td>United States\\n</td>\n",
       "      <td>4.02</td>\n",
       "      <td>https://www.goodreads.com/book/show/686717.Mur...</td>\n",
       "      <td>686717</td>\n",
       "      <td>\\n      Murder on St. Mark's Place\\n</td>\n",
       "      <td>Mystery</td>\n",
       "      <td>Historical</td>\n",
       "      <td>5260</td>\n",
       "      <td>375</td>\n",
       "      <td>277</td>\n",
       "      <td>2000</td>\n",
       "      <td>3230</td>\n",
       "    </tr>\n",
       "    <tr>\n",
       "      <td>1</td>\n",
       "      <td>4.15</td>\n",
       "      <td>male</td>\n",
       "      <td>literature-fiction,mystery-thrillers,</td>\n",
       "      <td>706255</td>\n",
       "      <td>Stieg Larsson\\n</td>\n",
       "      <td>/author/show/706255.Stieg_Larsson</td>\n",
       "      <td>3726435</td>\n",
       "      <td>142704</td>\n",
       "      <td>Sweden\\n</td>\n",
       "      <td>4.13</td>\n",
       "      <td>https://www.goodreads.com/book/show/2429135.Th...</td>\n",
       "      <td>2429135</td>\n",
       "      <td>\\n      The Girl with the Dragon Tattoo\\n</td>\n",
       "      <td>Fiction</td>\n",
       "      <td>Mystery</td>\n",
       "      <td>2229163</td>\n",
       "      <td>65227</td>\n",
       "      <td>465</td>\n",
       "      <td>August 2005</td>\n",
       "      <td>3062</td>\n",
       "    </tr>\n",
       "    <tr>\n",
       "      <td>2</td>\n",
       "      <td>4.00</td>\n",
       "      <td>female</td>\n",
       "      <td>romance,</td>\n",
       "      <td>5618190</td>\n",
       "      <td>Mimi Jean Pamfiloff\\n</td>\n",
       "      <td>/author/show/5618190.Mimi_Jean_Pamfiloff</td>\n",
       "      <td>76496</td>\n",
       "      <td>7975</td>\n",
       "      <td>United States\\n</td>\n",
       "      <td>3.99</td>\n",
       "      <td>https://www.goodreads.com/book/show/27833684-t...</td>\n",
       "      <td>27833684</td>\n",
       "      <td>\\n      Tailored for Trouble\\n</td>\n",
       "      <td>Romance</td>\n",
       "      <td>Contemporary</td>\n",
       "      <td>2151</td>\n",
       "      <td>391</td>\n",
       "      <td>354</td>\n",
       "      <td>2016</td>\n",
       "      <td>4585</td>\n",
       "    </tr>\n",
       "    <tr>\n",
       "      <td>3</td>\n",
       "      <td>3.88</td>\n",
       "      <td>male</td>\n",
       "      <td>fiction,memoir,</td>\n",
       "      <td>37871</td>\n",
       "      <td>JosÃ© Donoso\\n</td>\n",
       "      <td>/author/show/37871.Jos_Donoso</td>\n",
       "      <td>5522</td>\n",
       "      <td>489</td>\n",
       "      <td>Chile\\n</td>\n",
       "      <td>4.14</td>\n",
       "      <td>https://www.goodreads.com/book/show/382975.The...</td>\n",
       "      <td>382975</td>\n",
       "      <td>\\n      The Obscene Bird of Night\\n</td>\n",
       "      <td>Fiction</td>\n",
       "      <td>Magical Realism</td>\n",
       "      <td>1844</td>\n",
       "      <td>173</td>\n",
       "      <td>438</td>\n",
       "      <td>1970</td>\n",
       "      <td>1533</td>\n",
       "    </tr>\n",
       "    <tr>\n",
       "      <td>4</td>\n",
       "      <td>4.10</td>\n",
       "      <td>female</td>\n",
       "      <td>young-adult,fantasy,</td>\n",
       "      <td>36122</td>\n",
       "      <td>Patricia C. Wrede\\n</td>\n",
       "      <td>/author/show/36122.Patricia_C_Wrede</td>\n",
       "      <td>291013</td>\n",
       "      <td>13453</td>\n",
       "      <td>United States\\n</td>\n",
       "      <td>4.01</td>\n",
       "      <td>https://www.goodreads.com/book/show/64207.Sorc...</td>\n",
       "      <td>64207</td>\n",
       "      <td>\\n      Sorcery &amp; Cecelia: or The Enchanted Ch...</td>\n",
       "      <td>Fantasy</td>\n",
       "      <td>Young Adult</td>\n",
       "      <td>17051</td>\n",
       "      <td>1890</td>\n",
       "      <td>326</td>\n",
       "      <td>April 15th 1988</td>\n",
       "      <td>2105</td>\n",
       "    </tr>\n",
       "  </tbody>\n",
       "</table>\n",
       "</div>"
      ],
      "text/plain": [
       "   author_average_rating author_gender                          author_genres  \\\n",
       "0                   4.01        female                    historical-fiction,   \n",
       "1                   4.15          male  literature-fiction,mystery-thrillers,   \n",
       "2                   4.00        female                               romance,   \n",
       "3                   3.88          male                        fiction,memoir,   \n",
       "4                   4.10        female                   young-adult,fantasy,   \n",
       "\n",
       "   author_id            author_name                           author_page_url  \\\n",
       "0      74489    Victoria Thompson\\n      /author/show/74489.Victoria_Thompson   \n",
       "1     706255        Stieg Larsson\\n         /author/show/706255.Stieg_Larsson   \n",
       "2    5618190  Mimi Jean Pamfiloff\\n  /author/show/5618190.Mimi_Jean_Pamfiloff   \n",
       "3      37871         JosÃ© Donoso\\n             /author/show/37871.Jos_Donoso   \n",
       "4      36122    Patricia C. Wrede\\n       /author/show/36122.Patricia_C_Wrede   \n",
       "\n",
       "   author_rating_count  author_review_count            birthplace  \\\n",
       "0                74399                 6268   United States\\n       \n",
       "1              3726435               142704          Sweden\\n       \n",
       "2                76496                 7975     United States\\n     \n",
       "3                 5522                  489           Chile\\n       \n",
       "4               291013                13453   United States\\n       \n",
       "\n",
       "   book_average_rating                                       book_fullurl  \\\n",
       "0                 4.02  https://www.goodreads.com/book/show/686717.Mur...   \n",
       "1                 4.13  https://www.goodreads.com/book/show/2429135.Th...   \n",
       "2                 3.99  https://www.goodreads.com/book/show/27833684-t...   \n",
       "3                 4.14  https://www.goodreads.com/book/show/382975.The...   \n",
       "4                 4.01  https://www.goodreads.com/book/show/64207.Sorc...   \n",
       "\n",
       "    book_id                                         book_title  genre_1  \\\n",
       "0    686717               \\n      Murder on St. Mark's Place\\n  Mystery   \n",
       "1   2429135          \\n      The Girl with the Dragon Tattoo\\n  Fiction   \n",
       "2  27833684                     \\n      Tailored for Trouble\\n  Romance   \n",
       "3    382975                \\n      The Obscene Bird of Night\\n  Fiction   \n",
       "4     64207  \\n      Sorcery & Cecelia: or The Enchanted Ch...  Fantasy   \n",
       "\n",
       "           genre_2  num_ratings  num_reviews pages     publish_date  score  \n",
       "0       Historical         5260          375   277             2000   3230  \n",
       "1          Mystery      2229163        65227   465      August 2005   3062  \n",
       "2     Contemporary         2151          391   354             2016   4585  \n",
       "3  Magical Realism         1844          173   438             1970   1533  \n",
       "4      Young Adult        17051         1890   326  April 15th 1988   2105  "
      ]
     },
     "execution_count": 3,
     "metadata": {},
     "output_type": "execute_result"
    }
   ],
   "source": [
    "data.head()"
   ]
  },
  {
   "cell_type": "code",
   "execution_count": 4,
   "metadata": {},
   "outputs": [
    {
     "data": {
      "text/plain": [
       "author_average_rating    float64\n",
       "author_gender             object\n",
       "author_genres             object\n",
       "author_id                  int64\n",
       "author_name               object\n",
       "author_page_url           object\n",
       "author_rating_count        int64\n",
       "author_review_count        int64\n",
       "birthplace                object\n",
       "book_average_rating      float64\n",
       "book_fullurl              object\n",
       "book_id                   object\n",
       "book_title                object\n",
       "genre_1                   object\n",
       "genre_2                   object\n",
       "num_ratings                int64\n",
       "num_reviews                int64\n",
       "pages                     object\n",
       "publish_date              object\n",
       "score                      int64\n",
       "dtype: object"
      ]
     },
     "execution_count": 4,
     "metadata": {},
     "output_type": "execute_result"
    }
   ],
   "source": [
    "data.dtypes"
   ]
  },
  {
   "cell_type": "code",
   "execution_count": 5,
   "metadata": {},
   "outputs": [],
   "source": [
    "data['author_genres'].fillna(data['author_genres'].mode()[0], inplace=True)"
   ]
  },
  {
   "cell_type": "code",
   "execution_count": 6,
   "metadata": {},
   "outputs": [
    {
     "name": "stderr",
     "output_type": "stream",
     "text": [
      "C:\\Users\\Advent Siahaan\\Anaconda3\\lib\\site-packages\\ipykernel_launcher.py:2: UserWarning: Pandas doesn't allow columns to be created via a new attribute name - see https://pandas.pydata.org/pandas-docs/stable/indexing.html#attribute-access\n",
      "  \n"
     ]
    }
   ],
   "source": [
    "column = ['author_average_rating','author_gender','author_genres','author_id','author_name','author_page_url','author_rating_count','author_review_count','birthplace','book_average_rating','book_fullurl','book_id','book_title','genre_1','genre_2','num_ratings','num_reviews','pages','publish_date','score']\n",
    "data.column = column"
   ]
  },
  {
   "cell_type": "code",
   "execution_count": 7,
   "metadata": {},
   "outputs": [
    {
     "data": {
      "text/html": [
       "<div>\n",
       "<style scoped>\n",
       "    .dataframe tbody tr th:only-of-type {\n",
       "        vertical-align: middle;\n",
       "    }\n",
       "\n",
       "    .dataframe tbody tr th {\n",
       "        vertical-align: top;\n",
       "    }\n",
       "\n",
       "    .dataframe thead th {\n",
       "        text-align: right;\n",
       "    }\n",
       "</style>\n",
       "<table border=\"1\" class=\"dataframe\">\n",
       "  <thead>\n",
       "    <tr style=\"text-align: right;\">\n",
       "      <th></th>\n",
       "      <th>author_average_rating</th>\n",
       "      <th>author_gender</th>\n",
       "      <th>author_genres</th>\n",
       "      <th>author_id</th>\n",
       "      <th>author_name</th>\n",
       "      <th>author_page_url</th>\n",
       "      <th>author_rating_count</th>\n",
       "      <th>author_review_count</th>\n",
       "      <th>birthplace</th>\n",
       "      <th>book_average_rating</th>\n",
       "      <th>book_fullurl</th>\n",
       "      <th>book_id</th>\n",
       "      <th>book_title</th>\n",
       "      <th>genre_1</th>\n",
       "      <th>genre_2</th>\n",
       "      <th>num_ratings</th>\n",
       "      <th>num_reviews</th>\n",
       "      <th>pages</th>\n",
       "      <th>publish_date</th>\n",
       "      <th>score</th>\n",
       "    </tr>\n",
       "  </thead>\n",
       "  <tbody>\n",
       "    <tr>\n",
       "      <td>20000</td>\n",
       "      <td>3.61</td>\n",
       "      <td>male</td>\n",
       "      <td>science-fiction-fantasy,</td>\n",
       "      <td>4740874</td>\n",
       "      <td>Steven W. White\\n</td>\n",
       "      <td>/author/show/4740874.Steven_W_White</td>\n",
       "      <td>795</td>\n",
       "      <td>102</td>\n",
       "      <td>\\n</td>\n",
       "      <td>3.61</td>\n",
       "      <td>https://www.goodreads.com/book/show/10871446-o...</td>\n",
       "      <td>10871446</td>\n",
       "      <td>\\n      Outrageous Fortunes: a Novel of Altern...</td>\n",
       "      <td>Fiction</td>\n",
       "      <td>Science Fiction</td>\n",
       "      <td>69</td>\n",
       "      <td>13</td>\n",
       "      <td>374</td>\n",
       "      <td>March 16th 2011</td>\n",
       "      <td>200</td>\n",
       "    </tr>\n",
       "    <tr>\n",
       "      <td>20001</td>\n",
       "      <td>3.91</td>\n",
       "      <td>male</td>\n",
       "      <td>literature-fiction,</td>\n",
       "      <td>2976</td>\n",
       "      <td>Ãric-Emmanuel Schmitt\\n</td>\n",
       "      <td>/author/show/2976._ric_Emmanuel_Schmitt</td>\n",
       "      <td>84438</td>\n",
       "      <td>6333</td>\n",
       "      <td>France\\n</td>\n",
       "      <td>4.15</td>\n",
       "      <td>https://www.goodreads.com/book/show/1016600.La...</td>\n",
       "      <td>1016600</td>\n",
       "      <td>\\n      La Part de l'autre\\n</td>\n",
       "      <td>Fiction</td>\n",
       "      <td>Cultural</td>\n",
       "      <td>4676</td>\n",
       "      <td>268</td>\n",
       "      <td>473</td>\n",
       "      <td>August 2001</td>\n",
       "      <td>200</td>\n",
       "    </tr>\n",
       "    <tr>\n",
       "      <td>20002</td>\n",
       "      <td>3.94</td>\n",
       "      <td>female</td>\n",
       "      <td>young-adult,</td>\n",
       "      <td>6562243</td>\n",
       "      <td>J.C. Lillis\\n</td>\n",
       "      <td>/author/show/6562243.J_C_Lillis</td>\n",
       "      <td>3170</td>\n",
       "      <td>649</td>\n",
       "      <td>\\n</td>\n",
       "      <td>3.95</td>\n",
       "      <td>https://www.goodreads.com/book/show/16102490-h...</td>\n",
       "      <td>16102490</td>\n",
       "      <td>\\n      How to Repair a Mechanical Heart\\n</td>\n",
       "      <td>Lgbt</td>\n",
       "      <td>Young Adult</td>\n",
       "      <td>2670</td>\n",
       "      <td>473</td>\n",
       "      <td>255</td>\n",
       "      <td>2012</td>\n",
       "      <td>631</td>\n",
       "    </tr>\n",
       "    <tr>\n",
       "      <td>20003</td>\n",
       "      <td>3.39</td>\n",
       "      <td>female</td>\n",
       "      <td>literature-fiction,biographies-memoirs,</td>\n",
       "      <td>58843</td>\n",
       "      <td>A. Manette Ansay\\n</td>\n",
       "      <td>/author/show/58843.A_Manette_Ansay</td>\n",
       "      <td>31204</td>\n",
       "      <td>1577</td>\n",
       "      <td>United States\\n</td>\n",
       "      <td>3.13</td>\n",
       "      <td>https://www.goodreads.com/book/show/6270530-go...</td>\n",
       "      <td>6270530</td>\n",
       "      <td>\\n      Good Things I Wish You\\n</td>\n",
       "      <td>Fiction</td>\n",
       "      <td>Historical</td>\n",
       "      <td>809</td>\n",
       "      <td>145</td>\n",
       "      <td>258</td>\n",
       "      <td>January 1st 2009</td>\n",
       "      <td>1443</td>\n",
       "    </tr>\n",
       "    <tr>\n",
       "      <td>20004</td>\n",
       "      <td>3.76</td>\n",
       "      <td>male</td>\n",
       "      <td>gay-lesbian,</td>\n",
       "      <td>5808041</td>\n",
       "      <td>Sage Marlowe\\n</td>\n",
       "      <td>/author/show/5808041.Sage_Marlowe</td>\n",
       "      <td>1917</td>\n",
       "      <td>345</td>\n",
       "      <td>\\n  \\n</td>\n",
       "      <td>3.53</td>\n",
       "      <td>https://www.goodreads.com/book/show/22094910-s...</td>\n",
       "      <td>22094910</td>\n",
       "      <td>\\n      Sub-Mission\\n</td>\n",
       "      <td>Erotica</td>\n",
       "      <td>Romance</td>\n",
       "      <td>296</td>\n",
       "      <td>43</td>\n",
       "      <td>152</td>\n",
       "      <td>NaN</td>\n",
       "      <td>646</td>\n",
       "    </tr>\n",
       "    <tr>\n",
       "      <td>20005</td>\n",
       "      <td>3.95</td>\n",
       "      <td>female</td>\n",
       "      <td>comics-graphic-novels,gay-lesbian,historical-f...</td>\n",
       "      <td>195779</td>\n",
       "      <td>Fumi Yoshinaga\\n</td>\n",
       "      <td>/author/show/195779.Fumi_Yoshinaga</td>\n",
       "      <td>15534</td>\n",
       "      <td>1380</td>\n",
       "      <td>Japan\\n</td>\n",
       "      <td>3.94</td>\n",
       "      <td>https://www.goodreads.com/book/show/6218001-oku</td>\n",
       "      <td>6218001</td>\n",
       "      <td>\\n      Åoku: The Inner Chambers, Volume 1\\n</td>\n",
       "      <td>Sequential Art</td>\n",
       "      <td>Sequential Art</td>\n",
       "      <td>2247</td>\n",
       "      <td>244</td>\n",
       "      <td>203</td>\n",
       "      <td>September 29th 2005</td>\n",
       "      <td>247</td>\n",
       "    </tr>\n",
       "    <tr>\n",
       "      <td>20006</td>\n",
       "      <td>3.64</td>\n",
       "      <td>female</td>\n",
       "      <td>romance,</td>\n",
       "      <td>4831558</td>\n",
       "      <td>Rachael Wade\\n</td>\n",
       "      <td>/author/show/4831558.Rachael_Wade</td>\n",
       "      <td>9031</td>\n",
       "      <td>1311</td>\n",
       "      <td>\\n</td>\n",
       "      <td>4.02</td>\n",
       "      <td>https://www.goodreads.com/book/show/17204373-d...</td>\n",
       "      <td>17204373</td>\n",
       "      <td>\\n      Declaration\\n</td>\n",
       "      <td>Romance</td>\n",
       "      <td>Contemporary</td>\n",
       "      <td>233</td>\n",
       "      <td>57</td>\n",
       "      <td>191</td>\n",
       "      <td>October 1st 2013</td>\n",
       "      <td>729</td>\n",
       "    </tr>\n",
       "    <tr>\n",
       "      <td>20007</td>\n",
       "      <td>3.87</td>\n",
       "      <td>female</td>\n",
       "      <td>literature-fiction,mystery-thrillers,</td>\n",
       "      <td>1032457</td>\n",
       "      <td>Chancery Stone\\n</td>\n",
       "      <td>/author/show/1032457.Chancery_Stone</td>\n",
       "      <td>260</td>\n",
       "      <td>68</td>\n",
       "      <td>United Kingdom\\n</td>\n",
       "      <td>3.72</td>\n",
       "      <td>https://www.goodreads.com/book/show/9993725-ho...</td>\n",
       "      <td>9993725</td>\n",
       "      <td>\\n      Hope House\\n</td>\n",
       "      <td>Romance</td>\n",
       "      <td>Romance</td>\n",
       "      <td>85</td>\n",
       "      <td>27</td>\n",
       "      <td>928</td>\n",
       "      <td>January 1st 1998</td>\n",
       "      <td>662</td>\n",
       "    </tr>\n",
       "    <tr>\n",
       "      <td>20008</td>\n",
       "      <td>3.75</td>\n",
       "      <td>male</td>\n",
       "      <td>science-fiction,</td>\n",
       "      <td>22645</td>\n",
       "      <td>Gregory Benford\\n</td>\n",
       "      <td>/author/show/22645.Gregory_Benford</td>\n",
       "      <td>65548</td>\n",
       "      <td>3847</td>\n",
       "      <td>United States\\n</td>\n",
       "      <td>3.39</td>\n",
       "      <td>https://www.goodreads.com/book/show/640592.Hit...</td>\n",
       "      <td>640592</td>\n",
       "      <td>\\n      Hitler Victorious: Eleven Stories of t...</td>\n",
       "      <td>Science Fiction</td>\n",
       "      <td>Science Fiction</td>\n",
       "      <td>255</td>\n",
       "      <td>20</td>\n",
       "      <td>299</td>\n",
       "      <td>1986</td>\n",
       "      <td>264</td>\n",
       "    </tr>\n",
       "    <tr>\n",
       "      <td>20009</td>\n",
       "      <td>4.14</td>\n",
       "      <td>female</td>\n",
       "      <td>young-adult,</td>\n",
       "      <td>688672</td>\n",
       "      <td>Kathryn Erskine\\n</td>\n",
       "      <td>/author/show/688672.Kathryn_Erskine</td>\n",
       "      <td>30457</td>\n",
       "      <td>4883</td>\n",
       "      <td>\\n</td>\n",
       "      <td>4.18</td>\n",
       "      <td>https://www.goodreads.com/book/show/6596547-mo...</td>\n",
       "      <td>6596547</td>\n",
       "      <td>\\n      Mockingbird\\n</td>\n",
       "      <td>Young Adult</td>\n",
       "      <td>Realistic Fiction</td>\n",
       "      <td>26747</td>\n",
       "      <td>4056</td>\n",
       "      <td>235</td>\n",
       "      <td>2010</td>\n",
       "      <td>1526</td>\n",
       "    </tr>\n",
       "  </tbody>\n",
       "</table>\n",
       "</div>"
      ],
      "text/plain": [
       "       author_average_rating author_gender  \\\n",
       "20000                   3.61          male   \n",
       "20001                   3.91          male   \n",
       "20002                   3.94        female   \n",
       "20003                   3.39        female   \n",
       "20004                   3.76          male   \n",
       "20005                   3.95        female   \n",
       "20006                   3.64        female   \n",
       "20007                   3.87        female   \n",
       "20008                   3.75          male   \n",
       "20009                   4.14        female   \n",
       "\n",
       "                                           author_genres  author_id  \\\n",
       "20000                           science-fiction-fantasy,    4740874   \n",
       "20001                                literature-fiction,       2976   \n",
       "20002                                       young-adult,    6562243   \n",
       "20003            literature-fiction,biographies-memoirs,      58843   \n",
       "20004                                       gay-lesbian,    5808041   \n",
       "20005  comics-graphic-novels,gay-lesbian,historical-f...     195779   \n",
       "20006                                           romance,    4831558   \n",
       "20007              literature-fiction,mystery-thrillers,    1032457   \n",
       "20008                                   science-fiction,      22645   \n",
       "20009                                       young-adult,     688672   \n",
       "\n",
       "                    author_name                          author_page_url  \\\n",
       "20000         Steven W. White\\n      /author/show/4740874.Steven_W_White   \n",
       "20001  Ãric-Emmanuel Schmitt\\n  /author/show/2976._ric_Emmanuel_Schmitt   \n",
       "20002             J.C. Lillis\\n          /author/show/6562243.J_C_Lillis   \n",
       "20003        A. Manette Ansay\\n       /author/show/58843.A_Manette_Ansay   \n",
       "20004            Sage Marlowe\\n        /author/show/5808041.Sage_Marlowe   \n",
       "20005          Fumi Yoshinaga\\n       /author/show/195779.Fumi_Yoshinaga   \n",
       "20006            Rachael Wade\\n        /author/show/4831558.Rachael_Wade   \n",
       "20007          Chancery Stone\\n      /author/show/1032457.Chancery_Stone   \n",
       "20008         Gregory Benford\\n       /author/show/22645.Gregory_Benford   \n",
       "20009         Kathryn Erskine\\n      /author/show/688672.Kathryn_Erskine   \n",
       "\n",
       "       author_rating_count  author_review_count            birthplace  \\\n",
       "20000                  795                  102                  \\n     \n",
       "20001                84438                 6333          France\\n       \n",
       "20002                 3170                  649                  \\n     \n",
       "20003                31204                 1577   United States\\n       \n",
       "20004                 1917                  345            \\n  \\n       \n",
       "20005                15534                 1380           Japan\\n       \n",
       "20006                 9031                 1311                  \\n     \n",
       "20007                  260                   68    United Kingdom\\n     \n",
       "20008                65548                 3847   United States\\n       \n",
       "20009                30457                 4883                  \\n     \n",
       "\n",
       "       book_average_rating                                       book_fullurl  \\\n",
       "20000                 3.61  https://www.goodreads.com/book/show/10871446-o...   \n",
       "20001                 4.15  https://www.goodreads.com/book/show/1016600.La...   \n",
       "20002                 3.95  https://www.goodreads.com/book/show/16102490-h...   \n",
       "20003                 3.13  https://www.goodreads.com/book/show/6270530-go...   \n",
       "20004                 3.53  https://www.goodreads.com/book/show/22094910-s...   \n",
       "20005                 3.94    https://www.goodreads.com/book/show/6218001-oku   \n",
       "20006                 4.02  https://www.goodreads.com/book/show/17204373-d...   \n",
       "20007                 3.72  https://www.goodreads.com/book/show/9993725-ho...   \n",
       "20008                 3.39  https://www.goodreads.com/book/show/640592.Hit...   \n",
       "20009                 4.18  https://www.goodreads.com/book/show/6596547-mo...   \n",
       "\n",
       "        book_id                                         book_title  \\\n",
       "20000  10871446  \\n      Outrageous Fortunes: a Novel of Altern...   \n",
       "20001   1016600                       \\n      La Part de l'autre\\n   \n",
       "20002  16102490         \\n      How to Repair a Mechanical Heart\\n   \n",
       "20003   6270530                   \\n      Good Things I Wish You\\n   \n",
       "20004  22094910                              \\n      Sub-Mission\\n   \n",
       "20005   6218001      \\n      Åoku: The Inner Chambers, Volume 1\\n   \n",
       "20006  17204373                              \\n      Declaration\\n   \n",
       "20007   9993725                               \\n      Hope House\\n   \n",
       "20008    640592  \\n      Hitler Victorious: Eleven Stories of t...   \n",
       "20009   6596547                              \\n      Mockingbird\\n   \n",
       "\n",
       "               genre_1            genre_2  num_ratings  num_reviews pages  \\\n",
       "20000          Fiction    Science Fiction           69           13   374   \n",
       "20001          Fiction           Cultural         4676          268   473   \n",
       "20002             Lgbt        Young Adult         2670          473   255   \n",
       "20003          Fiction         Historical          809          145   258   \n",
       "20004          Erotica            Romance          296           43   152   \n",
       "20005   Sequential Art     Sequential Art         2247          244   203   \n",
       "20006          Romance       Contemporary          233           57   191   \n",
       "20007          Romance            Romance           85           27   928   \n",
       "20008  Science Fiction    Science Fiction          255           20   299   \n",
       "20009      Young Adult  Realistic Fiction        26747         4056   235   \n",
       "\n",
       "              publish_date  score  \n",
       "20000      March 16th 2011    200  \n",
       "20001          August 2001    200  \n",
       "20002                 2012    631  \n",
       "20003     January 1st 2009   1443  \n",
       "20004                  NaN    646  \n",
       "20005  September 29th 2005    247  \n",
       "20006     October 1st 2013    729  \n",
       "20007     January 1st 1998    662  \n",
       "20008                 1986    264  \n",
       "20009                 2010   1526  "
      ]
     },
     "execution_count": 7,
     "metadata": {},
     "output_type": "execute_result"
    }
   ],
   "source": [
    "data[20000:20010]"
   ]
  },
  {
   "cell_type": "code",
   "execution_count": 9,
   "metadata": {},
   "outputs": [],
   "source": [
    "books = pd.DataFrame(data['book_title'])\n",
    "genre = pd.DataFrame(data['genre_1'])"
   ]
  },
  {
   "cell_type": "code",
   "execution_count": 10,
   "metadata": {},
   "outputs": [
    {
     "name": "stdout",
     "output_type": "stream",
     "text": [
      "(22891, 1)\n",
      "(22891, 1)\n"
     ]
    }
   ],
   "source": [
    "print (books.shape)\n",
    "print (genre.shape)"
   ]
  },
  {
   "cell_type": "code",
   "execution_count": 11,
   "metadata": {},
   "outputs": [
    {
     "name": "stdout",
     "output_type": "stream",
     "text": [
      "Total words in data set:  18391\n"
     ]
    }
   ],
   "source": [
    "from collections import Counter\n",
    "\n",
    "total_counts = Counter()\n",
    "for i in range(len(books)):\n",
    "    for word in books.values[i][0].split(\" \"):\n",
    "        total_counts[word] += 1\n",
    "\n",
    "print(\"Total words in data set: \", len(total_counts))"
   ]
  },
  {
   "cell_type": "code",
   "execution_count": 12,
   "metadata": {},
   "outputs": [
    {
     "name": "stdout",
     "output_type": "stream",
     "text": [
      "['', '\\n', 'The', 'of', 'the', 'and', 'A', 'in', 'to', 'a', 'My', 'for', 'Vol.', 'on', 'Love', '1\\n', 'I', 'You', '&', 'How', 'Story', 'with', 'Life', 'Me\\n', 'from', 'One', 'at', 'All', 'You\\n', 'Your', 'Life\\n', 'Dark', 'Book', 'Other', 'An', 'Love\\n', 'In', 'Last', 'Is', 'Who', 'Black', 'We', 'Little', 'That', 'When', 'What', 'Girl\\n', 'Girl', 'by', 'World\\n', 'Me', 'With', 'True', 'Volume', 'Secret', 'History', 'American', 'His', 'an', 'World']\n"
     ]
    }
   ],
   "source": [
    "vocab = sorted(total_counts, key=total_counts.get, reverse=True)[:20000]\n",
    "print(vocab[:60])"
   ]
  },
  {
   "cell_type": "code",
   "execution_count": 13,
   "metadata": {},
   "outputs": [
    {
     "name": "stdout",
     "output_type": "stream",
     "text": [
      "Volatile :  1\n"
     ]
    }
   ],
   "source": [
    "print(vocab[-1], ': ', total_counts[vocab[-1]])"
   ]
  },
  {
   "cell_type": "code",
   "execution_count": 14,
   "metadata": {},
   "outputs": [],
   "source": [
    "vocab_size = len(vocab)\n",
    "word2idx = {}\n",
    "#print vocab_size\n",
    "for i, word in enumerate(vocab):\n",
    "    word2idx[word] = i"
   ]
  },
  {
   "cell_type": "code",
   "execution_count": 15,
   "metadata": {},
   "outputs": [],
   "source": [
    "def text_to_vector(text):\n",
    "    word_vector = np.zeros(vocab_size)\n",
    "    for word in text.split(\" \"):\n",
    "        if word2idx.get(word) is None:\n",
    "            continue\n",
    "        else:\n",
    "            word_vector[word2idx.get(word)] += 1\n",
    "    return np.array(word_vector)"
   ]
  },
  {
   "cell_type": "code",
   "execution_count": 17,
   "metadata": {},
   "outputs": [
    {
     "data": {
      "text/plain": [
       "array([0., 0., 0., 0., 0., 0., 0., 0., 0., 0.])"
      ]
     },
     "execution_count": 17,
     "metadata": {},
     "output_type": "execute_result"
    }
   ],
   "source": [
    "text_to_vector(\"La Part de l'autre\")[:10]"
   ]
  },
  {
   "cell_type": "code",
   "execution_count": 18,
   "metadata": {},
   "outputs": [],
   "source": [
    "word_vectors = np.zeros((len(books), len(vocab)), dtype=np.int_)\n",
    "for ii, (_, text) in enumerate(books.iterrows()):\n",
    "    word_vectors[ii] = text_to_vector(text[0])"
   ]
  },
  {
   "cell_type": "code",
   "execution_count": 19,
   "metadata": {},
   "outputs": [
    {
     "data": {
      "text/plain": [
       "(22891, 18391)"
      ]
     },
     "execution_count": 19,
     "metadata": {},
     "output_type": "execute_result"
    }
   ],
   "source": [
    "word_vectors.shape"
   ]
  },
  {
   "cell_type": "code",
   "execution_count": 20,
   "metadata": {},
   "outputs": [
    {
     "data": {
      "text/html": [
       "<div>\n",
       "<style scoped>\n",
       "    .dataframe tbody tr th:only-of-type {\n",
       "        vertical-align: middle;\n",
       "    }\n",
       "\n",
       "    .dataframe tbody tr th {\n",
       "        vertical-align: top;\n",
       "    }\n",
       "\n",
       "    .dataframe thead th {\n",
       "        text-align: right;\n",
       "    }\n",
       "</style>\n",
       "<table border=\"1\" class=\"dataframe\">\n",
       "  <thead>\n",
       "    <tr style=\"text-align: right;\">\n",
       "      <th></th>\n",
       "      <th>book_title</th>\n",
       "    </tr>\n",
       "  </thead>\n",
       "  <tbody>\n",
       "    <tr>\n",
       "      <td>count</td>\n",
       "      <td>22891</td>\n",
       "    </tr>\n",
       "    <tr>\n",
       "      <td>unique</td>\n",
       "      <td>16350</td>\n",
       "    </tr>\n",
       "    <tr>\n",
       "      <td>top</td>\n",
       "      <td>\\n      Forbidden\\n</td>\n",
       "    </tr>\n",
       "    <tr>\n",
       "      <td>freq</td>\n",
       "      <td>16</td>\n",
       "    </tr>\n",
       "  </tbody>\n",
       "</table>\n",
       "</div>"
      ],
      "text/plain": [
       "                 book_title\n",
       "count                 22891\n",
       "unique                16350\n",
       "top     \\n      Forbidden\\n\n",
       "freq                     16"
      ]
     },
     "execution_count": 20,
     "metadata": {},
     "output_type": "execute_result"
    }
   ],
   "source": [
    "books.describe()"
   ]
  },
  {
   "cell_type": "code",
   "execution_count": 22,
   "metadata": {},
   "outputs": [
    {
     "data": {
      "text/html": [
       "<div>\n",
       "<style scoped>\n",
       "    .dataframe tbody tr th:only-of-type {\n",
       "        vertical-align: middle;\n",
       "    }\n",
       "\n",
       "    .dataframe tbody tr th {\n",
       "        vertical-align: top;\n",
       "    }\n",
       "\n",
       "    .dataframe thead th {\n",
       "        text-align: right;\n",
       "    }\n",
       "</style>\n",
       "<table border=\"1\" class=\"dataframe\">\n",
       "  <thead>\n",
       "    <tr style=\"text-align: right;\">\n",
       "      <th></th>\n",
       "      <th>genre_1</th>\n",
       "    </tr>\n",
       "  </thead>\n",
       "  <tbody>\n",
       "    <tr>\n",
       "      <td>count</td>\n",
       "      <td>22891</td>\n",
       "    </tr>\n",
       "    <tr>\n",
       "      <td>unique</td>\n",
       "      <td>124</td>\n",
       "    </tr>\n",
       "    <tr>\n",
       "      <td>top</td>\n",
       "      <td>Fantasy</td>\n",
       "    </tr>\n",
       "    <tr>\n",
       "      <td>freq</td>\n",
       "      <td>3397</td>\n",
       "    </tr>\n",
       "  </tbody>\n",
       "</table>\n",
       "</div>"
      ],
      "text/plain": [
       "        genre_1\n",
       "count     22891\n",
       "unique      124\n",
       "top     Fantasy\n",
       "freq       3397"
      ]
     },
     "execution_count": 22,
     "metadata": {},
     "output_type": "execute_result"
    }
   ],
   "source": [
    "genre.describe()"
   ]
  },
  {
   "cell_type": "code",
   "execution_count": 23,
   "metadata": {},
   "outputs": [
    {
     "data": {
      "text/html": [
       "<div>\n",
       "<style scoped>\n",
       "    .dataframe tbody tr th:only-of-type {\n",
       "        vertical-align: middle;\n",
       "    }\n",
       "\n",
       "    .dataframe tbody tr th {\n",
       "        vertical-align: top;\n",
       "    }\n",
       "\n",
       "    .dataframe thead th {\n",
       "        text-align: right;\n",
       "    }\n",
       "</style>\n",
       "<table border=\"1\" class=\"dataframe\">\n",
       "  <thead>\n",
       "    <tr style=\"text-align: right;\">\n",
       "      <th></th>\n",
       "      <th>genre_1</th>\n",
       "    </tr>\n",
       "  </thead>\n",
       "  <tbody>\n",
       "    <tr>\n",
       "      <td>0</td>\n",
       "      <td>Mystery</td>\n",
       "    </tr>\n",
       "    <tr>\n",
       "      <td>1</td>\n",
       "      <td>Fiction</td>\n",
       "    </tr>\n",
       "    <tr>\n",
       "      <td>2</td>\n",
       "      <td>Romance</td>\n",
       "    </tr>\n",
       "    <tr>\n",
       "      <td>3</td>\n",
       "      <td>Fiction</td>\n",
       "    </tr>\n",
       "    <tr>\n",
       "      <td>4</td>\n",
       "      <td>Fantasy</td>\n",
       "    </tr>\n",
       "    <tr>\n",
       "      <td>...</td>\n",
       "      <td>...</td>\n",
       "    </tr>\n",
       "    <tr>\n",
       "      <td>22886</td>\n",
       "      <td>Fantasy</td>\n",
       "    </tr>\n",
       "    <tr>\n",
       "      <td>22887</td>\n",
       "      <td>Romance</td>\n",
       "    </tr>\n",
       "    <tr>\n",
       "      <td>22888</td>\n",
       "      <td>Fantasy</td>\n",
       "    </tr>\n",
       "    <tr>\n",
       "      <td>22889</td>\n",
       "      <td>Fantasy</td>\n",
       "    </tr>\n",
       "    <tr>\n",
       "      <td>22890</td>\n",
       "      <td>Fantasy</td>\n",
       "    </tr>\n",
       "  </tbody>\n",
       "</table>\n",
       "<p>22891 rows × 1 columns</p>\n",
       "</div>"
      ],
      "text/plain": [
       "       genre_1\n",
       "0      Mystery\n",
       "1      Fiction\n",
       "2      Romance\n",
       "3      Fiction\n",
       "4      Fantasy\n",
       "...        ...\n",
       "22886  Fantasy\n",
       "22887  Romance\n",
       "22888  Fantasy\n",
       "22889  Fantasy\n",
       "22890  Fantasy\n",
       "\n",
       "[22891 rows x 1 columns]"
      ]
     },
     "execution_count": 23,
     "metadata": {},
     "output_type": "execute_result"
    }
   ],
   "source": [
    "type(genre)\n",
    "len(genre)\n",
    "genre"
   ]
  },
  {
   "cell_type": "code",
   "execution_count": 24,
   "metadata": {},
   "outputs": [
    {
     "name": "stdout",
     "output_type": "stream",
     "text": [
      "Total words in data set:  134\n"
     ]
    }
   ],
   "source": [
    "from collections import Counter\n",
    "\n",
    "total_counts_genre = Counter()\n",
    "for i in range(len(genre)):\n",
    "    for word in genre.values[i][0].split(\" \"):\n",
    "        total_counts_genre[word] += 1\n",
    "\n",
    "print(\"Total words in data set: \", len(total_counts_genre))"
   ]
  },
  {
   "cell_type": "code",
   "execution_count": 25,
   "metadata": {},
   "outputs": [],
   "source": [
    "vocab_genre = sorted(total_counts_genre, key=total_counts_genre.get, reverse=True)"
   ]
  },
  {
   "cell_type": "code",
   "execution_count": 26,
   "metadata": {},
   "outputs": [
    {
     "name": "stdout",
     "output_type": "stream",
     "text": [
      "['Romance', 'Fantasy', 'Adult', 'Young', 'Historical', 'Science', 'Nonfiction', 'Mystery', 'Classics', 'Art', 'Sequential', 'Horror', 'Childrens', 'History', 'Paranormal', 'New', 'Poetry', 'Christian', 'Erotica', 'Novels', 'Biography', 'Short', 'Stories', 'Thriller', 'Dark', 'Religion', 'Philosophy', 'Contemporary', 'and', 'Humor', 'Lgbt', 'Autobiography', 'Womens', 'Business', 'Holiday', 'Self', 'Help', 'Travel', 'Sports', 'Literature', 'Psychology', 'Cultural', 'Politics', 'Games', 'Asian', 'Food', 'Drink', 'Plays', 'Spirituality', 'Feminism', 'Glbt', 'Animals', 'Mythology', 'War', 'Crime', 'Realistic', 'Adventure', 'Anthologies', 'Music', 'Comics', 'Health', 'Shapeshifters', 'Suspense', 'Language', 'Westerns', 'Amish', 'Polyamorous', 'World', 'II', 'Economics', 'Military', 'Magical', 'Realism', 'Education', 'Warfare', 'Mental', 'Media', 'Tie', 'In', 'Apocalyptic', 'Category', 'Africa', 'Sociology', 'Leadership', 'Writing', 'Inspirational', 'Novella', 'Drama', 'Northern', 'Spy', 'Parenting', 'Literary', 'Retellings', 'European', 'Christianity', 'Manga', 'Marriage', 'Family', 'Sexuality', 'Eastern', 'Biblical', 'Occult', 'Unfinished', 'Relationships', 'Death', 'Lds', 'Design', 'Dungeons', 'Dragons', 'Did', 'Not', 'Finish', 'Reference', 'Fan', 'Love', 'Epic', 'Gardening', 'Couture', 'Own', 'Football', 'Medical', 'Speculative', 'Dc', 'Esoterica', 'How', 'To', 'Teaching', 'Social', 'United', 'States', 'Pulp', 'Fairy', 'Tales']\n"
     ]
    }
   ],
   "source": [
    "vocab_genre = vocab_genre[1:]\n",
    "print (vocab_genre)"
   ]
  },
  {
   "cell_type": "code",
   "execution_count": 27,
   "metadata": {},
   "outputs": [
    {
     "name": "stdout",
     "output_type": "stream",
     "text": [
      "Tales :  1\n"
     ]
    }
   ],
   "source": [
    "print(vocab_genre[-1], ': ', total_counts_genre[vocab_genre[-1]])"
   ]
  },
  {
   "cell_type": "code",
   "execution_count": 28,
   "metadata": {},
   "outputs": [],
   "source": [
    "vocab_size_genre = len(vocab_genre)\n",
    "word2idx_genre = {}\n",
    "#print vocab_size\n",
    "for i, word in enumerate(vocab_genre):\n",
    "    word2idx_genre[word] = i"
   ]
  },
  {
   "cell_type": "code",
   "execution_count": 29,
   "metadata": {},
   "outputs": [],
   "source": [
    "def text_to_vector_genre(text):\n",
    "    word_vector_genre = np.zeros(vocab_size_genre)\n",
    "    for word in text.split(\" \"):\n",
    "        if word2idx_genre.get(word) is None:\n",
    "            continue\n",
    "        else:\n",
    "            word_vector_genre[word2idx_genre.get(word)] += 1\n",
    "    return np.array(word_vector_genre)"
   ]
  },
  {
   "cell_type": "code",
   "execution_count": 30,
   "metadata": {},
   "outputs": [],
   "source": [
    "word_vectors_genre = np.zeros((len(genre), len(vocab_genre)), dtype=np.int_)\n",
    "for ii, (_, text) in enumerate(genre.iterrows()):\n",
    "    word_vectors_genre[ii] = text_to_vector_genre(text[0])"
   ]
  },
  {
   "cell_type": "code",
   "execution_count": 31,
   "metadata": {},
   "outputs": [
    {
     "data": {
      "text/plain": [
       "array([0, 0, 0, 0, 0, 0, 0, 0, 0, 0, 0, 0, 0, 0, 0, 0, 0, 0, 0, 0, 0, 0,\n",
       "       0, 0, 0, 0, 0, 0, 0, 0, 0, 0, 0, 0, 0, 0, 0, 0, 0, 0, 0, 0, 0, 0,\n",
       "       0, 0, 0, 0, 0, 0, 0, 0, 0, 0, 0, 0, 0, 0, 0, 0, 0, 0, 0, 0, 0, 0,\n",
       "       0, 0, 0, 0, 0, 0, 0, 0, 0, 0, 0, 0, 0, 0, 0, 0, 0, 0, 0, 0, 0, 0,\n",
       "       0, 0, 0, 0, 0, 0, 0, 0, 0, 0, 0, 0, 0, 0, 0, 0, 0, 0, 0, 0, 0, 0,\n",
       "       0, 0, 0, 0, 0, 0, 0, 0, 0, 0, 0, 0, 0, 0, 0, 0, 0, 0, 0, 0, 0, 0,\n",
       "       0])"
      ]
     },
     "execution_count": 31,
     "metadata": {},
     "output_type": "execute_result"
    }
   ],
   "source": [
    "word_vectors_genre.shape\n",
    "word_vectors_genre[1]"
   ]
  },
  {
   "cell_type": "code",
   "execution_count": 32,
   "metadata": {},
   "outputs": [
    {
     "name": "stdout",
     "output_type": "stream",
     "text": [
      "(22891, 18391)\n"
     ]
    },
    {
     "data": {
      "text/plain": [
       "['Romance',\n",
       " 'Fantasy',\n",
       " 'Adult',\n",
       " 'Young',\n",
       " 'Historical',\n",
       " 'Science',\n",
       " 'Nonfiction',\n",
       " 'Mystery',\n",
       " 'Classics',\n",
       " 'Art',\n",
       " 'Sequential',\n",
       " 'Horror',\n",
       " 'Childrens',\n",
       " 'History',\n",
       " 'Paranormal',\n",
       " 'New',\n",
       " 'Poetry',\n",
       " 'Christian',\n",
       " 'Erotica',\n",
       " 'Novels',\n",
       " 'Biography',\n",
       " 'Short',\n",
       " 'Stories',\n",
       " 'Thriller',\n",
       " 'Dark',\n",
       " 'Religion',\n",
       " 'Philosophy',\n",
       " 'Contemporary',\n",
       " 'and',\n",
       " 'Humor',\n",
       " 'Lgbt',\n",
       " 'Autobiography',\n",
       " 'Womens',\n",
       " 'Business',\n",
       " 'Holiday',\n",
       " 'Self',\n",
       " 'Help',\n",
       " 'Travel',\n",
       " 'Sports',\n",
       " 'Literature',\n",
       " 'Psychology',\n",
       " 'Cultural',\n",
       " 'Politics',\n",
       " 'Games',\n",
       " 'Asian',\n",
       " 'Food',\n",
       " 'Drink',\n",
       " 'Plays',\n",
       " 'Spirituality',\n",
       " 'Feminism',\n",
       " 'Glbt',\n",
       " 'Animals',\n",
       " 'Mythology',\n",
       " 'War',\n",
       " 'Crime',\n",
       " 'Realistic',\n",
       " 'Adventure',\n",
       " 'Anthologies',\n",
       " 'Music',\n",
       " 'Comics',\n",
       " 'Health',\n",
       " 'Shapeshifters',\n",
       " 'Suspense',\n",
       " 'Language',\n",
       " 'Westerns',\n",
       " 'Amish',\n",
       " 'Polyamorous',\n",
       " 'World',\n",
       " 'II',\n",
       " 'Economics',\n",
       " 'Military',\n",
       " 'Magical',\n",
       " 'Realism',\n",
       " 'Education',\n",
       " 'Warfare',\n",
       " 'Mental',\n",
       " 'Media',\n",
       " 'Tie',\n",
       " 'In',\n",
       " 'Apocalyptic',\n",
       " 'Category',\n",
       " 'Africa',\n",
       " 'Sociology',\n",
       " 'Leadership',\n",
       " 'Writing',\n",
       " 'Inspirational',\n",
       " 'Novella',\n",
       " 'Drama',\n",
       " 'Northern',\n",
       " 'Spy',\n",
       " 'Parenting',\n",
       " 'Literary',\n",
       " 'Retellings',\n",
       " 'European',\n",
       " 'Christianity',\n",
       " 'Manga',\n",
       " 'Marriage',\n",
       " 'Family',\n",
       " 'Sexuality',\n",
       " 'Eastern',\n",
       " 'Biblical',\n",
       " 'Occult',\n",
       " 'Unfinished',\n",
       " 'Relationships',\n",
       " 'Death',\n",
       " 'Lds',\n",
       " 'Design',\n",
       " 'Dungeons',\n",
       " 'Dragons',\n",
       " 'Did',\n",
       " 'Not',\n",
       " 'Finish',\n",
       " 'Reference',\n",
       " 'Fan',\n",
       " 'Love',\n",
       " 'Epic',\n",
       " 'Gardening',\n",
       " 'Couture',\n",
       " 'Own',\n",
       " 'Football',\n",
       " 'Medical',\n",
       " 'Speculative',\n",
       " 'Dc',\n",
       " 'Esoterica',\n",
       " 'How',\n",
       " 'To',\n",
       " 'Teaching',\n",
       " 'Social',\n",
       " 'United',\n",
       " 'States',\n",
       " 'Pulp',\n",
       " 'Fairy',\n",
       " 'Tales']"
      ]
     },
     "execution_count": 32,
     "metadata": {},
     "output_type": "execute_result"
    }
   ],
   "source": [
    "print (word_vectors.shape)\n",
    "word_vectors_genre[1]\n",
    "list(word2idx_genre)"
   ]
  },
  {
   "cell_type": "code",
   "execution_count": 33,
   "metadata": {},
   "outputs": [
    {
     "ename": "MemoryError",
     "evalue": "",
     "output_type": "error",
     "traceback": [
      "\u001b[1;31m---------------------------------------------------------------------------\u001b[0m",
      "\u001b[1;31mMemoryError\u001b[0m                               Traceback (most recent call last)",
      "\u001b[1;32m<ipython-input-33-bbe74978611c>\u001b[0m in \u001b[0;36m<module>\u001b[1;34m\u001b[0m\n\u001b[0;32m      1\u001b[0m \u001b[1;32mfrom\u001b[0m \u001b[0msklearn\u001b[0m\u001b[1;33m.\u001b[0m\u001b[0mmodel_selection\u001b[0m \u001b[1;32mimport\u001b[0m \u001b[0mtrain_test_split\u001b[0m\u001b[1;33m\u001b[0m\u001b[1;33m\u001b[0m\u001b[0m\n\u001b[1;32m----> 2\u001b[1;33m \u001b[0mX_train\u001b[0m\u001b[1;33m,\u001b[0m \u001b[0mX_test\u001b[0m\u001b[1;33m,\u001b[0m \u001b[0my_train\u001b[0m\u001b[1;33m,\u001b[0m \u001b[0my_test\u001b[0m \u001b[1;33m=\u001b[0m \u001b[0mtrain_test_split\u001b[0m\u001b[1;33m(\u001b[0m\u001b[0mword_vectors\u001b[0m\u001b[1;33m,\u001b[0m \u001b[0mword_vectors_genre\u001b[0m\u001b[1;33m,\u001b[0m \u001b[0mtest_size\u001b[0m\u001b[1;33m=\u001b[0m\u001b[1;36m0.25\u001b[0m\u001b[1;33m,\u001b[0m \u001b[0mrandom_state\u001b[0m\u001b[1;33m=\u001b[0m\u001b[1;36m42\u001b[0m\u001b[1;33m)\u001b[0m\u001b[1;33m\u001b[0m\u001b[1;33m\u001b[0m\u001b[0m\n\u001b[0m",
      "\u001b[1;32m~\\Anaconda3\\lib\\site-packages\\sklearn\\model_selection\\_split.py\u001b[0m in \u001b[0;36mtrain_test_split\u001b[1;34m(*arrays, **options)\u001b[0m\n\u001b[0;32m   2122\u001b[0m \u001b[1;33m\u001b[0m\u001b[0m\n\u001b[0;32m   2123\u001b[0m     return list(chain.from_iterable((safe_indexing(a, train),\n\u001b[1;32m-> 2124\u001b[1;33m                                      safe_indexing(a, test)) for a in arrays))\n\u001b[0m\u001b[0;32m   2125\u001b[0m \u001b[1;33m\u001b[0m\u001b[0m\n\u001b[0;32m   2126\u001b[0m \u001b[1;33m\u001b[0m\u001b[0m\n",
      "\u001b[1;32m~\\Anaconda3\\lib\\site-packages\\sklearn\\model_selection\\_split.py\u001b[0m in \u001b[0;36m<genexpr>\u001b[1;34m(.0)\u001b[0m\n\u001b[0;32m   2122\u001b[0m \u001b[1;33m\u001b[0m\u001b[0m\n\u001b[0;32m   2123\u001b[0m     return list(chain.from_iterable((safe_indexing(a, train),\n\u001b[1;32m-> 2124\u001b[1;33m                                      safe_indexing(a, test)) for a in arrays))\n\u001b[0m\u001b[0;32m   2125\u001b[0m \u001b[1;33m\u001b[0m\u001b[0m\n\u001b[0;32m   2126\u001b[0m \u001b[1;33m\u001b[0m\u001b[0m\n",
      "\u001b[1;32m~\\Anaconda3\\lib\\site-packages\\sklearn\\utils\\__init__.py\u001b[0m in \u001b[0;36msafe_indexing\u001b[1;34m(X, indices)\u001b[0m\n\u001b[0;32m    217\u001b[0m                                    indices.dtype.kind == 'i'):\n\u001b[0;32m    218\u001b[0m             \u001b[1;31m# This is often substantially faster than X[indices]\u001b[0m\u001b[1;33m\u001b[0m\u001b[1;33m\u001b[0m\u001b[1;33m\u001b[0m\u001b[0m\n\u001b[1;32m--> 219\u001b[1;33m             \u001b[1;32mreturn\u001b[0m \u001b[0mX\u001b[0m\u001b[1;33m.\u001b[0m\u001b[0mtake\u001b[0m\u001b[1;33m(\u001b[0m\u001b[0mindices\u001b[0m\u001b[1;33m,\u001b[0m \u001b[0maxis\u001b[0m\u001b[1;33m=\u001b[0m\u001b[1;36m0\u001b[0m\u001b[1;33m)\u001b[0m\u001b[1;33m\u001b[0m\u001b[1;33m\u001b[0m\u001b[0m\n\u001b[0m\u001b[0;32m    220\u001b[0m         \u001b[1;32melse\u001b[0m\u001b[1;33m:\u001b[0m\u001b[1;33m\u001b[0m\u001b[1;33m\u001b[0m\u001b[0m\n\u001b[0;32m    221\u001b[0m             \u001b[1;32mreturn\u001b[0m \u001b[0mX\u001b[0m\u001b[1;33m[\u001b[0m\u001b[0mindices\u001b[0m\u001b[1;33m]\u001b[0m\u001b[1;33m\u001b[0m\u001b[1;33m\u001b[0m\u001b[0m\n",
      "\u001b[1;31mMemoryError\u001b[0m: "
     ]
    }
   ],
   "source": [
    "from sklearn.model_selection import train_test_split\n",
    "X_train, X_test, y_train, y_test = train_test_split(word_vectors, word_vectors_genre, test_size=0.25, random_state=42)"
   ]
  },
  {
   "cell_type": "code",
   "execution_count": null,
   "metadata": {},
   "outputs": [],
   "source": [
    "print (X_train.shape)\n",
    "print (y_train.shape)\n",
    "print (X_test.shape)\n",
    "print (y_test.shape)"
   ]
  },
  {
   "cell_type": "code",
   "execution_count": 34,
   "metadata": {},
   "outputs": [],
   "source": [
    "def build_model():\n",
    "    tf.reset_default_graph()\n",
    "    \n",
    "    # Input\n",
    "    net = tflearn.input_data([None, 20000])\n",
    "    \n",
    "    #Hidden\n",
    "    net = tflearn.fully_connected(net, 128, activation='ReLU')\n",
    "    net = tflearn.fully_connected(net, 128, activation='ReLU')\n",
    "    net = tflearn.fully_connected(net, 128, activation='ReLU')\n",
    "    net = tflearn.fully_connected(net, 256, activation='ReLU')\n",
    "\n",
    "    ## Dropout\n",
    "    net = tflearn.layers.core.dropout (net, 0.5, noise_shape=None, name='Dropout')\n",
    "\n",
    "    #Output\n",
    "    net = tflearn.fully_connected(net, 62, activation='softmax') \n",
    "    net = tflearn.regression(net, optimizer='adam', learning_rate=0.003, loss='categorical_crossentropy')\n",
    "    \n",
    "    \n",
    "    model = tflearn.DNN(net)\n",
    "    return model"
   ]
  },
  {
   "cell_type": "code",
   "execution_count": 35,
   "metadata": {},
   "outputs": [
    {
     "ename": "AttributeError",
     "evalue": "module 'tensorflow' has no attribute 'reset_default_graph'",
     "output_type": "error",
     "traceback": [
      "\u001b[1;31m---------------------------------------------------------------------------\u001b[0m",
      "\u001b[1;31mAttributeError\u001b[0m                            Traceback (most recent call last)",
      "\u001b[1;32m<ipython-input-35-671884cecb64>\u001b[0m in \u001b[0;36m<module>\u001b[1;34m\u001b[0m\n\u001b[1;32m----> 1\u001b[1;33m \u001b[0mmodel\u001b[0m \u001b[1;33m=\u001b[0m \u001b[0mbuild_model\u001b[0m\u001b[1;33m(\u001b[0m\u001b[1;33m)\u001b[0m\u001b[1;33m\u001b[0m\u001b[1;33m\u001b[0m\u001b[0m\n\u001b[0m",
      "\u001b[1;32m<ipython-input-34-a3819b84f52d>\u001b[0m in \u001b[0;36mbuild_model\u001b[1;34m()\u001b[0m\n\u001b[0;32m      1\u001b[0m \u001b[1;32mdef\u001b[0m \u001b[0mbuild_model\u001b[0m\u001b[1;33m(\u001b[0m\u001b[1;33m)\u001b[0m\u001b[1;33m:\u001b[0m\u001b[1;33m\u001b[0m\u001b[1;33m\u001b[0m\u001b[0m\n\u001b[1;32m----> 2\u001b[1;33m     \u001b[0mtf\u001b[0m\u001b[1;33m.\u001b[0m\u001b[0mreset_default_graph\u001b[0m\u001b[1;33m(\u001b[0m\u001b[1;33m)\u001b[0m\u001b[1;33m\u001b[0m\u001b[1;33m\u001b[0m\u001b[0m\n\u001b[0m\u001b[0;32m      3\u001b[0m \u001b[1;33m\u001b[0m\u001b[0m\n\u001b[0;32m      4\u001b[0m     \u001b[1;31m# Input\u001b[0m\u001b[1;33m\u001b[0m\u001b[1;33m\u001b[0m\u001b[1;33m\u001b[0m\u001b[0m\n\u001b[0;32m      5\u001b[0m     \u001b[0mnet\u001b[0m \u001b[1;33m=\u001b[0m \u001b[0mtflearn\u001b[0m\u001b[1;33m.\u001b[0m\u001b[0minput_data\u001b[0m\u001b[1;33m(\u001b[0m\u001b[1;33m[\u001b[0m\u001b[1;32mNone\u001b[0m\u001b[1;33m,\u001b[0m \u001b[1;36m20000\u001b[0m\u001b[1;33m]\u001b[0m\u001b[1;33m)\u001b[0m\u001b[1;33m\u001b[0m\u001b[1;33m\u001b[0m\u001b[0m\n",
      "\u001b[1;31mAttributeError\u001b[0m: module 'tensorflow' has no attribute 'reset_default_graph'"
     ]
    }
   ],
   "source": [
    "model = build_model()"
   ]
  },
  {
   "cell_type": "code",
   "execution_count": 36,
   "metadata": {},
   "outputs": [
    {
     "ename": "NameError",
     "evalue": "name 'model' is not defined",
     "output_type": "error",
     "traceback": [
      "\u001b[1;31m---------------------------------------------------------------------------\u001b[0m",
      "\u001b[1;31mNameError\u001b[0m                                 Traceback (most recent call last)",
      "\u001b[1;32m<ipython-input-36-6f273eb655f4>\u001b[0m in \u001b[0;36m<module>\u001b[1;34m\u001b[0m\n\u001b[1;32m----> 1\u001b[1;33m \u001b[0mhist\u001b[0m \u001b[1;33m=\u001b[0m \u001b[0mmodel\u001b[0m\u001b[1;33m.\u001b[0m\u001b[0mfit\u001b[0m\u001b[1;33m(\u001b[0m\u001b[0mX_train\u001b[0m\u001b[1;33m,\u001b[0m \u001b[0my_train\u001b[0m\u001b[1;33m,\u001b[0m \u001b[0mvalidation_set\u001b[0m\u001b[1;33m=\u001b[0m\u001b[1;36m0.05\u001b[0m\u001b[1;33m,\u001b[0m \u001b[0mshow_metric\u001b[0m\u001b[1;33m=\u001b[0m\u001b[1;32mTrue\u001b[0m\u001b[1;33m,\u001b[0m \u001b[0mbatch_size\u001b[0m\u001b[1;33m=\u001b[0m\u001b[1;36m32\u001b[0m\u001b[1;33m,\u001b[0m \u001b[0mn_epoch\u001b[0m\u001b[1;33m=\u001b[0m\u001b[1;36m10\u001b[0m\u001b[1;33m)\u001b[0m\u001b[1;33m\u001b[0m\u001b[1;33m\u001b[0m\u001b[0m\n\u001b[0m",
      "\u001b[1;31mNameError\u001b[0m: name 'model' is not defined"
     ]
    }
   ],
   "source": [
    "hist = model.fit(X_train, y_train, validation_set=0.05, show_metric=True, batch_size=32, n_epoch=10)"
   ]
  },
  {
   "cell_type": "code",
   "execution_count": 37,
   "metadata": {},
   "outputs": [
    {
     "ename": "NameError",
     "evalue": "name 'model' is not defined",
     "output_type": "error",
     "traceback": [
      "\u001b[1;31m---------------------------------------------------------------------------\u001b[0m",
      "\u001b[1;31mNameError\u001b[0m                                 Traceback (most recent call last)",
      "\u001b[1;32m<ipython-input-37-d4159c46e417>\u001b[0m in \u001b[0;36m<module>\u001b[1;34m\u001b[0m\n\u001b[1;32m----> 1\u001b[1;33m \u001b[0mmodel\u001b[0m\u001b[1;33m.\u001b[0m\u001b[0msave\u001b[0m\u001b[1;33m(\u001b[0m\u001b[1;34m'models/Basic.tfl'\u001b[0m\u001b[1;33m)\u001b[0m\u001b[1;33m\u001b[0m\u001b[1;33m\u001b[0m\u001b[0m\n\u001b[0m",
      "\u001b[1;31mNameError\u001b[0m: name 'model' is not defined"
     ]
    }
   ],
   "source": [
    "model.save('models/Basic.tfl')"
   ]
  },
  {
   "cell_type": "code",
   "execution_count": 38,
   "metadata": {},
   "outputs": [
    {
     "ename": "NameError",
     "evalue": "name 'model' is not defined",
     "output_type": "error",
     "traceback": [
      "\u001b[1;31m---------------------------------------------------------------------------\u001b[0m",
      "\u001b[1;31mNameError\u001b[0m                                 Traceback (most recent call last)",
      "\u001b[1;32m<ipython-input-38-03d5daa92567>\u001b[0m in \u001b[0;36m<module>\u001b[1;34m\u001b[0m\n\u001b[1;32m----> 1\u001b[1;33m \u001b[0mmodel\u001b[0m\u001b[1;33m.\u001b[0m\u001b[0mload\u001b[0m\u001b[1;33m(\u001b[0m\u001b[1;34m\"models/Basic.tfl\"\u001b[0m\u001b[1;33m)\u001b[0m\u001b[1;33m\u001b[0m\u001b[1;33m\u001b[0m\u001b[0m\n\u001b[0m",
      "\u001b[1;31mNameError\u001b[0m: name 'model' is not defined"
     ]
    }
   ],
   "source": [
    "model.load(\"models/Basic.tfl\")"
   ]
  },
  {
   "cell_type": "code",
   "execution_count": 39,
   "metadata": {},
   "outputs": [
    {
     "ename": "NameError",
     "evalue": "name 'X_test' is not defined",
     "output_type": "error",
     "traceback": [
      "\u001b[1;31m---------------------------------------------------------------------------\u001b[0m",
      "\u001b[1;31mNameError\u001b[0m                                 Traceback (most recent call last)",
      "\u001b[1;32m<ipython-input-39-fab4e2186b30>\u001b[0m in \u001b[0;36m<module>\u001b[1;34m\u001b[0m\n\u001b[0;32m      1\u001b[0m \u001b[1;31m## Predictions for first book in testing set\u001b[0m\u001b[1;33m\u001b[0m\u001b[1;33m\u001b[0m\u001b[1;33m\u001b[0m\u001b[0m\n\u001b[1;32m----> 2\u001b[1;33m \u001b[0mprint\u001b[0m \u001b[1;33m(\u001b[0m\u001b[0mlen\u001b[0m\u001b[1;33m(\u001b[0m\u001b[0mX_test\u001b[0m\u001b[1;33m[\u001b[0m\u001b[1;36m1000\u001b[0m\u001b[1;33m]\u001b[0m\u001b[1;33m)\u001b[0m\u001b[1;33m)\u001b[0m\u001b[1;33m\u001b[0m\u001b[1;33m\u001b[0m\u001b[0m\n\u001b[0m",
      "\u001b[1;31mNameError\u001b[0m: name 'X_test' is not defined"
     ]
    }
   ],
   "source": [
    "## Predictions for first book in testing set\n",
    "print (len(X_test[1000]))"
   ]
  },
  {
   "cell_type": "code",
   "execution_count": 40,
   "metadata": {},
   "outputs": [
    {
     "ename": "NameError",
     "evalue": "name 'model' is not defined",
     "output_type": "error",
     "traceback": [
      "\u001b[1;31m---------------------------------------------------------------------------\u001b[0m",
      "\u001b[1;31mNameError\u001b[0m                                 Traceback (most recent call last)",
      "\u001b[1;32m<ipython-input-40-e1c841de83c7>\u001b[0m in \u001b[0;36m<module>\u001b[1;34m\u001b[0m\n\u001b[0;32m      1\u001b[0m \u001b[0mtext\u001b[0m \u001b[1;33m=\u001b[0m \u001b[1;34m\"A mariage with that boy\"\u001b[0m \u001b[1;31m## Genre is Christian Books and Bible\u001b[0m\u001b[1;33m\u001b[0m\u001b[1;33m\u001b[0m\u001b[0m\n\u001b[1;32m----> 2\u001b[1;33m \u001b[0mprob\u001b[0m \u001b[1;33m=\u001b[0m \u001b[0mmodel\u001b[0m\u001b[1;33m.\u001b[0m\u001b[0mpredict\u001b[0m\u001b[1;33m(\u001b[0m\u001b[1;33m[\u001b[0m\u001b[0mtext_to_vector\u001b[0m\u001b[1;33m(\u001b[0m\u001b[0mtext\u001b[0m\u001b[1;33m)\u001b[0m\u001b[1;33m]\u001b[0m\u001b[1;33m)\u001b[0m\u001b[1;33m\u001b[0m\u001b[1;33m\u001b[0m\u001b[0m\n\u001b[0m\u001b[0;32m      3\u001b[0m \u001b[0mprint\u001b[0m \u001b[1;33m(\u001b[0m\u001b[0mprob\u001b[0m\u001b[1;33m)\u001b[0m\u001b[1;33m\u001b[0m\u001b[1;33m\u001b[0m\u001b[0m\n",
      "\u001b[1;31mNameError\u001b[0m: name 'model' is not defined"
     ]
    }
   ],
   "source": [
    "text = \"A mariage with that boy\" ## Genre is Christian Books and Bible\n",
    "prob = model.predict([text_to_vector(text)])\n",
    "print (prob)"
   ]
  },
  {
   "cell_type": "code",
   "execution_count": 41,
   "metadata": {},
   "outputs": [
    {
     "ename": "NameError",
     "evalue": "name 'prob' is not defined",
     "output_type": "error",
     "traceback": [
      "\u001b[1;31m---------------------------------------------------------------------------\u001b[0m",
      "\u001b[1;31mNameError\u001b[0m                                 Traceback (most recent call last)",
      "\u001b[1;32m<ipython-input-41-6c831a448516>\u001b[0m in \u001b[0;36m<module>\u001b[1;34m\u001b[0m\n\u001b[1;32m----> 1\u001b[1;33m \u001b[0mlen\u001b[0m\u001b[1;33m(\u001b[0m\u001b[0mprob\u001b[0m\u001b[1;33m[\u001b[0m\u001b[1;36m0\u001b[0m\u001b[1;33m]\u001b[0m\u001b[1;33m)\u001b[0m\u001b[1;33m\u001b[0m\u001b[1;33m\u001b[0m\u001b[0m\n\u001b[0m",
      "\u001b[1;31mNameError\u001b[0m: name 'prob' is not defined"
     ]
    }
   ],
   "source": [
    "len(prob[0])"
   ]
  },
  {
   "cell_type": "code",
   "execution_count": 42,
   "metadata": {},
   "outputs": [
    {
     "ename": "NameError",
     "evalue": "name 'prob' is not defined",
     "output_type": "error",
     "traceback": [
      "\u001b[1;31m---------------------------------------------------------------------------\u001b[0m",
      "\u001b[1;31mNameError\u001b[0m                                 Traceback (most recent call last)",
      "\u001b[1;32m<ipython-input-42-6925a2761d4f>\u001b[0m in \u001b[0;36m<module>\u001b[1;34m\u001b[0m\n\u001b[1;32m----> 1\u001b[1;33m \u001b[0mresults\u001b[0m \u001b[1;33m=\u001b[0m \u001b[0msorted\u001b[0m\u001b[1;33m(\u001b[0m\u001b[1;33m(\u001b[0m\u001b[1;33m(\u001b[0m\u001b[0mvalue\u001b[0m\u001b[1;33m,\u001b[0m \u001b[0mindex\u001b[0m\u001b[1;33m)\u001b[0m \u001b[1;32mfor\u001b[0m \u001b[0mindex\u001b[0m\u001b[1;33m,\u001b[0m \u001b[0mvalue\u001b[0m \u001b[1;32min\u001b[0m \u001b[0menumerate\u001b[0m\u001b[1;33m(\u001b[0m\u001b[0mprob\u001b[0m\u001b[1;33m[\u001b[0m\u001b[1;36m0\u001b[0m\u001b[1;33m]\u001b[0m\u001b[1;33m)\u001b[0m\u001b[1;33m)\u001b[0m\u001b[1;33m,\u001b[0m \u001b[0mreverse\u001b[0m\u001b[1;33m=\u001b[0m\u001b[1;32mTrue\u001b[0m\u001b[1;33m)\u001b[0m\u001b[1;33m[\u001b[0m\u001b[1;33m:\u001b[0m\u001b[1;36m5\u001b[0m\u001b[1;33m]\u001b[0m\u001b[1;33m\u001b[0m\u001b[1;33m\u001b[0m\u001b[0m\n\u001b[0m\u001b[0;32m      2\u001b[0m \u001b[0mprint\u001b[0m \u001b[1;33m(\u001b[0m\u001b[0mresults\u001b[0m\u001b[1;33m)\u001b[0m\u001b[1;33m\u001b[0m\u001b[1;33m\u001b[0m\u001b[0m\n",
      "\u001b[1;31mNameError\u001b[0m: name 'prob' is not defined"
     ]
    }
   ],
   "source": [
    "results = sorted(((value, index) for index, value in enumerate(prob[0])), reverse=True)[:5]\n",
    "print (results)"
   ]
  },
  {
   "cell_type": "code",
   "execution_count": null,
   "metadata": {},
   "outputs": [],
   "source": [
    "originial_genre_vocab = list(word2idx_genre)\n",
    "#originial_genre_vocab[:10]\n",
    "for i,j in results:\n",
    "    print (originial_genre_vocab[j])"
   ]
  }
 ],
 "metadata": {
  "kernelspec": {
   "display_name": "Python 3",
   "language": "python",
   "name": "python3"
  },
  "language_info": {
   "codemirror_mode": {
    "name": "ipython",
    "version": 3
   },
   "file_extension": ".py",
   "mimetype": "text/x-python",
   "name": "python",
   "nbconvert_exporter": "python",
   "pygments_lexer": "ipython3",
   "version": "3.7.4"
  }
 },
 "nbformat": 4,
 "nbformat_minor": 2
}
